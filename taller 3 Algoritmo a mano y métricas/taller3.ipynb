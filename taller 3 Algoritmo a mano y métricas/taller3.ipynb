{
 "cells": [
  {
   "cell_type": "markdown",
   "metadata": {},
   "source": [
    "## TALLER 3:\n",
    "1.    Utilizando librerías solo de Numpy (sin usar scikit-learn) realizar un programa para aplicar **PCA**. Pruebe su algoritmo con la base de datos del taller 1 tomando solo los individuos con patologías: Left bundle Branch block beat y Right bundle Branch block beat. ¿Cuántas componentes fueron necesarias para representar el 95% de la varianza explicada?\n",
    "2.    Utilizando librerías solo de Numpy (sin usar scikit-learn) realizar un programa para aplicar **K-means**. Pruebe el resultado y grafique en dos dimensiones a partir de los datos obtenidos del taller 1. Agrupe en 4 clúster. ¿Hay relación entre los datos agrupados por clústers y el tipo de patología del paciente?\n",
    "3.    Utilizando librerías solo de Numpy (sin usar scikit-learn) realizar un programa para aplicar **KNN**. Pruebe el resultado obtenido a partir de los datos derivados del punto 1. Utilice 30% de los datos para pruebas y reporte: Exactitud (accuracy), sensibilidad (recall), precisión, especificidad y F1-score, y dibuje la matriz de confusión.\n",
    "4.    Utilizando scikit-learn implementar **regresión logística** sobre los datos del taller 1. Aplique OVR para la realizar la clasificación multiclase. Reporte exactitud, sensibilidad, especificidad y precisión, y dibuje la matriz de confusión ¿Cómo deben realizarse las métricas de desempeño cuando la clasificación es multiclase?\n",
    "5.    Suponga que el siguiente conjunto de scores corresponde a los resultados de un clasificador. Dibuje manualmente la curva ROC, construya la matriz de confusión, y calcule exactitud, precisión, sensibilidad, especificidad y F1-score (son en total 40 datos)."
   ]
  },
  {
   "cell_type": "markdown",
   "metadata": {},
   "source": [
    "The purpose of this paper is to develop an algorithm for recognizing and classifying \n",
    "- **N:** normal beat\n",
    "- **L:** left bundle branch block beat\n",
    "- **R:** right bundle branch block beat \n",
    "- **V:** premature ventricular contraction (PVC)."
   ]
  },
  {
   "cell_type": "code",
   "execution_count": 280,
   "metadata": {},
   "outputs": [],
   "source": [
    "# Librerías comunes\n",
    "import numpy as np\n",
    "import pandas as pd\n",
    "import seaborn as sns\n",
    "from scipy import stats\n",
    "import matplotlib.pyplot as plt\n",
    "import joblib # Save weight models\n",
    "from sklearn import preprocessing\n",
    "from sklearn.utils.multiclass import unique_labels\n",
    "\n",
    "# Para crear un modelo scikit-learn \n",
    "from sklearn.base import BaseEstimator, MultiOutputMixin\n",
    "\n",
    "# Modelos\n",
    "from sklearn.linear_model import LogisticRegression\n",
    "\n",
    "# Métricas, división de datos y entrenamiento de hipeparametros respectivamente\n",
    "from sklearn.metrics import accuracy_score, recall_score, precision_score, f1_score\n",
    "from sklearn.metrics import confusion_matrix, make_scorer, classification_report, roc_auc_score\n",
    "from sklearn.model_selection import train_test_split\n",
    "from sklearn.model_selection import GridSearchCV\n",
    "\n",
    "%matplotlib inline"
   ]
  },
  {
   "cell_type": "code",
   "execution_count": 124,
   "metadata": {},
   "outputs": [],
   "source": [
    "def plot_confusion_matrix(y_true, y_pred,\n",
    "                          normalize=False,\n",
    "                          title=None,\n",
    "                          cmap=plt.cm.Blues):\n",
    "    \"\"\"\n",
    "    This function prints and plots the confusion matrix.\n",
    "    Normalization can be applied by setting `normalize=True`.\n",
    "    \"\"\"\n",
    "    \n",
    "    le = preprocessing.LabelEncoder()\n",
    "    le.fit(np.unique(y_true))\n",
    "    \n",
    "    y_true = le.transform(y_true)\n",
    "    y_pred = le.transform(y_pred)\n",
    "    \n",
    "    classes = le.classes_\n",
    "    \n",
    "    if not title:\n",
    "        if normalize:\n",
    "            title = 'Normalized confusion matrix'\n",
    "        else:\n",
    "            title = 'Confusion matrix, without normalization'\n",
    "\n",
    "    # Compute confusion matrix\n",
    "    cm = confusion_matrix(y_true, y_pred)\n",
    "    # Only use the labels that appear in the data\n",
    "    classes = classes[unique_labels(y_true, y_pred)]\n",
    "    if normalize:\n",
    "        cm = cm.astype('float') / cm.sum(axis=1)[:, np.newaxis]\n",
    "\n",
    "    fig, ax = plt.subplots()\n",
    "    im = ax.imshow(cm, interpolation='nearest', cmap=cmap)\n",
    "    ax.figure.colorbar(im, ax=ax)\n",
    "    # We want to show all ticks...\n",
    "    ax.set(xticks=np.arange(cm.shape[1]),\n",
    "           yticks=np.arange(cm.shape[0]),\n",
    "           # ... and label them with the respective list entries\n",
    "           xticklabels=classes, yticklabels=classes,\n",
    "           title=title,\n",
    "           ylabel='True label',\n",
    "           xlabel='Predicted label')\n",
    "\n",
    "    # Rotate the tick labels and set their alignment.\n",
    "    plt.setp(ax.get_xticklabels(), rotation=45, ha=\"right\",\n",
    "             rotation_mode=\"anchor\")\n",
    "\n",
    "    # Loop over data dimensions and create text annotations.\n",
    "    fmt = '.2f' if normalize else 'd'\n",
    "    thresh = cm.max() / 2.\n",
    "    for i in range(cm.shape[0]):\n",
    "        for j in range(cm.shape[1]):\n",
    "            ax.text(j, i, format(cm[i, j], fmt),\n",
    "                    ha=\"center\", va=\"center\",\n",
    "                    color=\"white\" if cm[i, j] > thresh else \"black\")\n",
    "    fig.tight_layout()\n",
    "    return ax\n"
   ]
  },
  {
   "cell_type": "code",
   "execution_count": 44,
   "metadata": {},
   "outputs": [
    {
     "data": {
      "text/html": [
       "<div>\n",
       "<style scoped>\n",
       "    .dataframe tbody tr th:only-of-type {\n",
       "        vertical-align: middle;\n",
       "    }\n",
       "\n",
       "    .dataframe tbody tr th {\n",
       "        vertical-align: top;\n",
       "    }\n",
       "\n",
       "    .dataframe thead th {\n",
       "        text-align: right;\n",
       "    }\n",
       "</style>\n",
       "<table border=\"1\" class=\"dataframe\">\n",
       "  <thead>\n",
       "    <tr style=\"text-align: right;\">\n",
       "      <th></th>\n",
       "      <th>c0</th>\n",
       "      <th>c1</th>\n",
       "      <th>c2</th>\n",
       "      <th>c3</th>\n",
       "      <th>c4</th>\n",
       "      <th>c5</th>\n",
       "      <th>c6</th>\n",
       "      <th>c7</th>\n",
       "      <th>c8</th>\n",
       "      <th>c9</th>\n",
       "      <th>...</th>\n",
       "      <th>c241</th>\n",
       "      <th>c242</th>\n",
       "      <th>c243</th>\n",
       "      <th>c244</th>\n",
       "      <th>c245</th>\n",
       "      <th>c246</th>\n",
       "      <th>c247</th>\n",
       "      <th>c248</th>\n",
       "      <th>c249</th>\n",
       "      <th>Type</th>\n",
       "    </tr>\n",
       "  </thead>\n",
       "  <tbody>\n",
       "    <tr>\n",
       "      <td>0</td>\n",
       "      <td>964</td>\n",
       "      <td>963</td>\n",
       "      <td>962</td>\n",
       "      <td>960</td>\n",
       "      <td>958</td>\n",
       "      <td>959</td>\n",
       "      <td>961</td>\n",
       "      <td>962</td>\n",
       "      <td>963</td>\n",
       "      <td>963</td>\n",
       "      <td>...</td>\n",
       "      <td>961.0</td>\n",
       "      <td>963</td>\n",
       "      <td>961.0</td>\n",
       "      <td>961.0</td>\n",
       "      <td>962.0</td>\n",
       "      <td>965.0</td>\n",
       "      <td>966.0</td>\n",
       "      <td>963.0</td>\n",
       "      <td>962.0</td>\n",
       "      <td>N</td>\n",
       "    </tr>\n",
       "    <tr>\n",
       "      <td>1</td>\n",
       "      <td>955</td>\n",
       "      <td>955</td>\n",
       "      <td>958</td>\n",
       "      <td>958</td>\n",
       "      <td>957</td>\n",
       "      <td>955</td>\n",
       "      <td>954</td>\n",
       "      <td>954</td>\n",
       "      <td>956</td>\n",
       "      <td>958</td>\n",
       "      <td>...</td>\n",
       "      <td>960.0</td>\n",
       "      <td>960</td>\n",
       "      <td>960.0</td>\n",
       "      <td>959.0</td>\n",
       "      <td>954.0</td>\n",
       "      <td>954.0</td>\n",
       "      <td>956.0</td>\n",
       "      <td>957.0</td>\n",
       "      <td>958.0</td>\n",
       "      <td>N</td>\n",
       "    </tr>\n",
       "    <tr>\n",
       "      <td>2</td>\n",
       "      <td>955</td>\n",
       "      <td>955</td>\n",
       "      <td>956</td>\n",
       "      <td>953</td>\n",
       "      <td>951</td>\n",
       "      <td>952</td>\n",
       "      <td>953</td>\n",
       "      <td>953</td>\n",
       "      <td>953</td>\n",
       "      <td>949</td>\n",
       "      <td>...</td>\n",
       "      <td>963.0</td>\n",
       "      <td>961</td>\n",
       "      <td>962.0</td>\n",
       "      <td>961.0</td>\n",
       "      <td>965.0</td>\n",
       "      <td>964.0</td>\n",
       "      <td>962.0</td>\n",
       "      <td>958.0</td>\n",
       "      <td>956.0</td>\n",
       "      <td>N</td>\n",
       "    </tr>\n",
       "    <tr>\n",
       "      <td>3</td>\n",
       "      <td>954</td>\n",
       "      <td>954</td>\n",
       "      <td>956</td>\n",
       "      <td>956</td>\n",
       "      <td>955</td>\n",
       "      <td>955</td>\n",
       "      <td>948</td>\n",
       "      <td>952</td>\n",
       "      <td>952</td>\n",
       "      <td>955</td>\n",
       "      <td>...</td>\n",
       "      <td>963.0</td>\n",
       "      <td>964</td>\n",
       "      <td>964.0</td>\n",
       "      <td>961.0</td>\n",
       "      <td>959.0</td>\n",
       "      <td>957.0</td>\n",
       "      <td>959.0</td>\n",
       "      <td>961.0</td>\n",
       "      <td>960.0</td>\n",
       "      <td>N</td>\n",
       "    </tr>\n",
       "    <tr>\n",
       "      <td>4</td>\n",
       "      <td>961</td>\n",
       "      <td>961</td>\n",
       "      <td>958</td>\n",
       "      <td>958</td>\n",
       "      <td>957</td>\n",
       "      <td>957</td>\n",
       "      <td>958</td>\n",
       "      <td>958</td>\n",
       "      <td>958</td>\n",
       "      <td>956</td>\n",
       "      <td>...</td>\n",
       "      <td>969.0</td>\n",
       "      <td>966</td>\n",
       "      <td>965.0</td>\n",
       "      <td>963.0</td>\n",
       "      <td>965.0</td>\n",
       "      <td>965.0</td>\n",
       "      <td>967.0</td>\n",
       "      <td>966.0</td>\n",
       "      <td>964.0</td>\n",
       "      <td>N</td>\n",
       "    </tr>\n",
       "  </tbody>\n",
       "</table>\n",
       "<p>5 rows × 251 columns</p>\n",
       "</div>"
      ],
      "text/plain": [
       "    c0   c1   c2   c3   c4   c5   c6   c7   c8   c9  ...   c241  c242   c243  \\\n",
       "0  964  963  962  960  958  959  961  962  963  963  ...  961.0   963  961.0   \n",
       "1  955  955  958  958  957  955  954  954  956  958  ...  960.0   960  960.0   \n",
       "2  955  955  956  953  951  952  953  953  953  949  ...  963.0   961  962.0   \n",
       "3  954  954  956  956  955  955  948  952  952  955  ...  963.0   964  964.0   \n",
       "4  961  961  958  958  957  957  958  958  958  956  ...  969.0   966  965.0   \n",
       "\n",
       "    c244   c245   c246   c247   c248   c249  Type  \n",
       "0  961.0  962.0  965.0  966.0  963.0  962.0     N  \n",
       "1  959.0  954.0  954.0  956.0  957.0  958.0     N  \n",
       "2  961.0  965.0  964.0  962.0  958.0  956.0     N  \n",
       "3  961.0  959.0  957.0  959.0  961.0  960.0     N  \n",
       "4  963.0  965.0  965.0  967.0  966.0  964.0     N  \n",
       "\n",
       "[5 rows x 251 columns]"
      ]
     },
     "execution_count": 44,
     "metadata": {},
     "output_type": "execute_result"
    }
   ],
   "source": [
    "df_electCard = pd.read_csv('cleaned_electrocardiograma_dataset.csv')\n",
    "df_electCard.drop(\"Sample\", axis=1, inplace=True)\n",
    "df_electCard.head()"
   ]
  },
  {
   "cell_type": "markdown",
   "metadata": {},
   "source": [
    "# 1. PCA from scratch"
   ]
  },
  {
   "cell_type": "code",
   "execution_count": 45,
   "metadata": {},
   "outputs": [],
   "source": [
    "class PCAjj:\n",
    "    \n",
    "    def __init__(self, n_components):\n",
    "        self.n_components = n_components\n",
    "        \n",
    "    def fit_transform(self, X):\n",
    "        \n",
    "        self.X = X\n",
    "        self.covariance = np.cov(self.X.T)\n",
    "        self.eig_values, self.eig_vectors = np.linalg.eig(self.covariance)\n",
    "        \n",
    "        self.explained_variance_ = self.eig_values[:self.n_components]\n",
    "        self.explained_variance_ratio_ = self.eig_values[:self.n_components] / self.eig_values.sum()\n",
    "        \n",
    "        self._W = self.eig_vectors[:,:self.n_components] # Selecciono el número de eigen vectors que quiero\n",
    "        self.new_X = np.negative(np.dot(X, self._W)) # Matriz X reducida\n",
    "        \n",
    "        return self.new_X"
   ]
  },
  {
   "cell_type": "code",
   "execution_count": 46,
   "metadata": {},
   "outputs": [
    {
     "data": {
      "text/plain": [
       "L    8072\n",
       "R    6417\n",
       "Name: Type, dtype: int64"
      ]
     },
     "execution_count": 46,
     "metadata": {},
     "output_type": "execute_result"
    }
   ],
   "source": [
    "df_electCard_2_labels = df_electCard[df_electCard.Type.isin(['R', 'L'])]\n",
    "df_electCard_2_labels.Type.value_counts()"
   ]
  },
  {
   "cell_type": "code",
   "execution_count": 47,
   "metadata": {},
   "outputs": [],
   "source": [
    "X = df_electCard_2_labels.iloc[:, :250]\n",
    "X = (X - X.mean(axis = 0)) / X.std(axis = 0)"
   ]
  },
  {
   "cell_type": "code",
   "execution_count": 48,
   "metadata": {},
   "outputs": [
    {
     "data": {
      "text/plain": [
       "0.9629118228936789"
      ]
     },
     "execution_count": 48,
     "metadata": {},
     "output_type": "execute_result"
    }
   ],
   "source": [
    "pcajj = PCAjj(n_components = 5)\n",
    "X_pca = pcajj.fit_transform(X)\n",
    "y_pca = df_electCard[df_electCard.Type.isin(['R', 'L'])].Type\n",
    "pcajj.explained_variance_ratio_.sum()"
   ]
  },
  {
   "cell_type": "markdown",
   "metadata": {},
   "source": [
    "Filtrando mi dataset con los tipos left bundle branch block beat (**L**) y right bundle branch block beat (**R**), se aplicó PCA en busca del 95% de varianza explicada, la cual se consiguió con 5 componentes."
   ]
  },
  {
   "cell_type": "markdown",
   "metadata": {},
   "source": [
    "# 2. K-means from scratch"
   ]
  },
  {
   "cell_type": "code",
   "execution_count": 49,
   "metadata": {},
   "outputs": [],
   "source": [
    "class KMeansJJ:\n",
    "\n",
    "    def __init__(self, n_clusters=2, random_state=0, iterations = 50):\n",
    "        self.n_clusters = n_clusters\n",
    "        self.random_state = random_state\n",
    "        self.iterations = iterations\n",
    "    \n",
    "    def fit(self, X):\n",
    "        self.cluster_centers_ = X[np.random.randint(X.shape[0], size=self.n_clusters)]\n",
    "        self.targets = np.arange(self.n_clusters)\n",
    "        self.labels_ = self.predict(X)\n",
    "        self.X = X\n",
    "        \n",
    "        for i in range(self.iterations):\n",
    "            self.__ajustarCentroides()\n",
    "            self.labels_ = self.predict(X)\n",
    "        \n",
    "    def predict(self, X_test):\n",
    "        lista = []\n",
    "        \n",
    "        for regis in range(X_test.shape[0]):\n",
    "            temp = np.sqrt(np.sum(np.power(self.cluster_centers_ - X_test[regis], 2), axis = 1))\n",
    "            lista.append(np.argmin(temp))\n",
    "            \n",
    "        lista = np.array(lista)\n",
    "        return lista      \n",
    "    \n",
    "    def __ajustarCentroides(self):\n",
    "        \n",
    "        for target in self.targets:\n",
    "            indices = np.where(self.labels_ == target)\n",
    "            self.cluster_centers_[target] = self.X[indices].mean(axis = 0)\n",
    "            "
   ]
  },
  {
   "cell_type": "code",
   "execution_count": 50,
   "metadata": {},
   "outputs": [
    {
     "data": {
      "text/plain": [
       "N    73537\n",
       "L     8072\n",
       "V     7072\n",
       "R     6417\n",
       "Name: Type, dtype: int64"
      ]
     },
     "execution_count": 50,
     "metadata": {},
     "output_type": "execute_result"
    }
   ],
   "source": [
    "df_electCard.Type.value_counts()"
   ]
  },
  {
   "cell_type": "code",
   "execution_count": 51,
   "metadata": {},
   "outputs": [
    {
     "data": {
      "text/plain": [
       "(95098, 250)"
      ]
     },
     "execution_count": 51,
     "metadata": {},
     "output_type": "execute_result"
    }
   ],
   "source": [
    "X_comp = df_electCard.iloc[:, :250]\n",
    "X_comp = (X_comp - X_comp.mean(axis = 0)) / X_comp.std(axis = 0)\n",
    "X_comp.shape"
   ]
  },
  {
   "cell_type": "code",
   "execution_count": 52,
   "metadata": {},
   "outputs": [
    {
     "name": "stdout",
     "output_type": "stream",
     "text": [
      "0.8137214114549118\n"
     ]
    }
   ],
   "source": [
    "pcajj_comp = PCAjj(n_components = 2)\n",
    "X_comp = pcajj_comp.fit_transform(X_comp)\n",
    "print(pcajj_comp.explained_variance_ratio_.sum())"
   ]
  },
  {
   "cell_type": "code",
   "execution_count": 53,
   "metadata": {},
   "outputs": [],
   "source": [
    "kmeansJJ = KMeansJJ(n_clusters = 4, iterations=50)\n",
    "kmeansJJ.fit(X_comp)\n",
    "predictions = kmeansJJ.predict(X_comp)"
   ]
  },
  {
   "cell_type": "code",
   "execution_count": 54,
   "metadata": {},
   "outputs": [
    {
     "data": {
      "text/plain": [
       "array([[ -9.33298741,   0.45228946],\n",
       "       [ 12.38396453,   2.64407082],\n",
       "       [  4.02129102,  -2.00279868],\n",
       "       [-23.12527186,   0.6848043 ]])"
      ]
     },
     "execution_count": 54,
     "metadata": {},
     "output_type": "execute_result"
    }
   ],
   "source": [
    "centroides = kmeansJJ.cluster_centers_\n",
    "centroides"
   ]
  },
  {
   "cell_type": "code",
   "execution_count": 55,
   "metadata": {},
   "outputs": [],
   "source": [
    "puntosN = X_comp[df_electCard.Type == 'N']\n",
    "puntosL = X_comp[df_electCard.Type == 'L']\n",
    "puntosR = X_comp[df_electCard.Type == 'R']\n",
    "puntosV = X_comp[df_electCard.Type == 'V']\n",
    "\n",
    "puntos0 = X_comp[predictions == 0]\n",
    "puntos1 = X_comp[predictions == 1]\n",
    "puntos2 = X_comp[predictions == 2]\n",
    "puntos3 = X_comp[predictions == 3]"
   ]
  },
  {
   "cell_type": "code",
   "execution_count": 56,
   "metadata": {},
   "outputs": [
    {
     "data": {
      "text/plain": [
       "Text(0.5, 0.98, 'PCA y después cluster')"
      ]
     },
     "execution_count": 56,
     "metadata": {},
     "output_type": "execute_result"
    },
    {
     "data": {
      "image/png": "[encoded data removed]",
      "text/plain": [
       "<Figure size 1224x720 with 2 Axes>"
      ]
     },
     "metadata": {
      "needs_background": "light"
     },
     "output_type": "display_data"
    }
   ],
   "source": [
    "fig, axs = plt.subplots(2, 1, figsize=(17, 10), sharey=True)\n",
    "\n",
    "axs[0].scatter(puntosV[:, 0], puntosV[:, 1], alpha=0.7)\n",
    "axs[0].scatter(puntosN[:, 0], puntosN[:, 1], alpha=0.7)\n",
    "axs[0].scatter(puntosL[:, 0], puntosL[:, 1], alpha=0.7)\n",
    "axs[0].scatter(puntosR[:, 0], puntosR[:, 1], alpha=0.7)\n",
    "axs[0].scatter(centroides[:, 0], centroides[:, 1],  s=120, color = 'black')\n",
    "axs[0].set_title(\"Figura 1. Pintando los 4 grupos reales reducidos a 2 dimensiones\")\n",
    "\n",
    "\n",
    "axs[1].scatter(puntos0[:, 0], puntos0[:, 1])\n",
    "axs[1].scatter(puntos1[:, 0], puntos1[:, 1])\n",
    "axs[1].scatter(puntos2[:, 0], puntos2[:, 1])\n",
    "axs[1].scatter(puntos3[:, 0], puntos3[:, 1])\n",
    "axs[1].scatter(centroides[:, 0], centroides[:, 1],  s=120, color = 'black')\n",
    "axs[1].set_title(\"Figura 2. Cluster generado con k-means\")\n",
    "\n",
    "fig.suptitle('PCA y después cluster',  fontsize=20)"
   ]
  },
  {
   "cell_type": "markdown",
   "metadata": {},
   "source": [
    "Como se observa en los gráficos anteriores, PCA reducido a 2 dimensiones en este dataset no me permite tener los datos lo suficiente separados; de manera que k-means tampoco tenía posibilidad de trabajar correctamente ya que los 4 grupos se intersectaban entre si (Figura 1). Es por este mismo motivo que tampoco se puede sacar conlusiones de los anteriores clusters generados, ni de la patología de los pacientes."
   ]
  },
  {
   "cell_type": "markdown",
   "metadata": {},
   "source": [
    "# 3. KNN from scratch"
   ]
  },
  {
   "cell_type": "code",
   "execution_count": 57,
   "metadata": {},
   "outputs": [],
   "source": [
    "class KNN(BaseEstimator, MultiOutputMixin):\n",
    "    \n",
    "    def __init__(self, K = 2):\n",
    "        \n",
    "        self.K = K\n",
    "  \n",
    "    def fit(self, X, y):\n",
    "        \n",
    "        self.X = X\n",
    "        self.y = y\n",
    "        \n",
    "        return self\n",
    "    \n",
    "    def predict(self, X_new):\n",
    "        \n",
    "        predictions = [self.predict_one_value(X_new.iloc[i].values) for i in range(len(X_new))]\n",
    "        \n",
    "        return np.array(predictions)\n",
    "        \n",
    "    def predict_one_value(self, x_new):\n",
    "        \n",
    "        dists = np.sum(np.abs(self.X - x_new), axis=1)  # Aplicando la formula manhatan\n",
    "        dists = sorted(enumerate(dists), key=lambda dis:dis[1])  # Ordeno manteniendo guardadas las posiciones antes originales\n",
    "        \n",
    "        y_hat = stats.mode([self.y.iloc[elm_d[0]] for elm_d in dists[:self.K]])[0][0]\n",
    "\n",
    "        return y_hat"
   ]
  },
  {
   "cell_type": "code",
   "execution_count": 58,
   "metadata": {},
   "outputs": [],
   "source": [
    "X_pca = pd.DataFrame(X_pca)\n",
    "y_pca = pd.DataFrame(y_pca).Type"
   ]
  },
  {
   "cell_type": "code",
   "execution_count": 59,
   "metadata": {},
   "outputs": [],
   "source": [
    "X_train, X_test, y_train, y_test = train_test_split(X_pca, y_pca, test_size=0.30, random_state=42)"
   ]
  },
  {
   "cell_type": "code",
   "execution_count": 60,
   "metadata": {},
   "outputs": [
    {
     "data": {
      "text/plain": [
       "L    2426\n",
       "R    1921\n",
       "Name: Type, dtype: int64"
      ]
     },
     "execution_count": 60,
     "metadata": {},
     "output_type": "execute_result"
    }
   ],
   "source": [
    "y_test.value_counts()"
   ]
  },
  {
   "cell_type": "code",
   "execution_count": 61,
   "metadata": {},
   "outputs": [
    {
     "name": "stdout",
     "output_type": "stream",
     "text": [
      "CPU times: user 3min 41s, sys: 13.5 ms, total: 3min 41s\n",
      "Wall time: 3min 41s\n"
     ]
    }
   ],
   "source": [
    "%%time\n",
    "parameters = {    \n",
    "  'K':[5, 7, 11, 17],\n",
    "}\n",
    "\n",
    "scorer = make_scorer(accuracy_score)\n",
    "knn = KNN()\n",
    "grid_obj = GridSearchCV(knn, param_grid=parameters, scoring=scorer, cv=5)\n",
    "grid_fit = grid_obj.fit(X_train, y_train)\n",
    "best_clf = grid_fit.best_estimator_"
   ]
  },
  {
   "cell_type": "code",
   "execution_count": 62,
   "metadata": {},
   "outputs": [],
   "source": [
    "predictions = best_clf.predict(X_test)"
   ]
  },
  {
   "cell_type": "markdown",
   "metadata": {},
   "source": [
    "Source: https://uberpython.wordpress.com/2012/01/01/precision-recall-sensitivity-and-specificity/"
   ]
  },
  {
   "cell_type": "code",
   "execution_count": 125,
   "metadata": {},
   "outputs": [
    {
     "data": {
      "image/png": "[encoded data removed]",
      "text/plain": [
       "<Figure size 432x288 with 2 Axes>"
      ]
     },
     "metadata": {
      "needs_background": "light"
     },
     "output_type": "display_data"
    }
   ],
   "source": [
    "plot_confusion_matrix(y_test, predictions, title = \"Confusion matrix - left(L) and right(R) bundle branch block beat\");"
   ]
  },
  {
   "cell_type": "code",
   "execution_count": 126,
   "metadata": {},
   "outputs": [],
   "source": [
    "tn, fp, fn, tp = confusion_matrix(predictions, y_test).ravel()"
   ]
  },
  {
   "cell_type": "code",
   "execution_count": 128,
   "metadata": {},
   "outputs": [
    {
     "name": "stdout",
     "output_type": "stream",
     "text": [
      "(Exactitud) Accuracy: 0.9937888198757764\n",
      "(Sensibilidad) Recall: 0.9947753396029259\n",
      "(Especificidad) Specificity 0.9930127414714345\n",
      " Precision: 0.9911504424778761\n",
      " F1_score: 0.9929595827900913\n"
     ]
    }
   ],
   "source": [
    "accuracy_ = accuracy_score(predictions, y_test)\n",
    "recall_ = recall_score(predictions, y_test, pos_label=\"R\")\n",
    "f1_ = f1_score(predictions, y_test, pos_label=\"R\")\n",
    "precision_ = precision_score(predictions, y_test, pos_label=\"R\")\n",
    "\n",
    "print(f\"(Exactitud) Accuracy: {accuracy_}\")         # (2416 + 1904) / (2416 + 1904 + 10 + 17)\n",
    "print(f\"(Sensibilidad) Recall: {recall_}\")          # 2416 / (2416 + 17)\n",
    "print(f\"(Especificidad) Specificity {tn / (tn + fp)}\")\n",
    "print(f\" Precision: {precision_}\")                  # (2416) / (2416 + 10)\n",
    "print(f\" F1_score: {f1_}\")                          # 2 * (precision * recall) / (precision + recall)"
   ]
  },
  {
   "cell_type": "markdown",
   "metadata": {},
   "source": [
    "- La exactitud (accuracy) permite determinar de todos las predicciones, qué proporción fue clasificado correctamente sin importar si es 'L' o 'R'.\n",
    "- La sensibilidad (recall), indica la proporción de todos los clasificados como postivos (L) cuáles fueron clasificados correctamente.\n",
    "- La especificidad, indica la proporción de todos los clasificados como negativos (R) cuáles fueron clasificados correctamente.\n",
    "- La precisión: de los datos clasificados correctamente qué proporción son positivos.\n",
    "- Usando la puntuación F1 como métrica, estamos seguros de que si la puntuación F1 es alta, tanto la precisión como el recall del clasificador indican buenos resultados. Esa característica de la métrica nos permite comparar el rendimiento de dos clasificadores usando solo una métrica y aún así estar seguros de que los clasificadores no están cometiendo algunos errores horribles que pasan desapercibidos para el código que califica su salida."
   ]
  },
  {
   "cell_type": "markdown",
   "metadata": {},
   "source": [
    "Finalmente la matrix de confusión me permite determinar con más detalle las predicciones entendiendo cuales fueron clasificadas correctamente como 'L' cuáles como 'R' y con cuántas predicciones se confundió el modelo diciendo que era 'R' cuando en realidad era 'L' y viceversa."
   ]
  },
  {
   "cell_type": "markdown",
   "metadata": {},
   "source": [
    "# 4. Logistic Regression with One vs Rest (OVR)"
   ]
  },
  {
   "cell_type": "markdown",
   "metadata": {},
   "source": [
    "Utilizando scikit-learn implementar regresión logística sobre los datos del taller 1. Aplique OVR para la realizar la clasificación multiclase. Reporte exactitud, sensibilidad, especificidad y precisión, y dibuje la matriz de confusión ¿Cómo deben realizarse las métricas de desempeño cuando la clasificación es multiclase?"
   ]
  },
  {
   "cell_type": "code",
   "execution_count": 11,
   "metadata": {},
   "outputs": [
    {
     "data": {
      "text/html": [
       "<div>\n",
       "<style scoped>\n",
       "    .dataframe tbody tr th:only-of-type {\n",
       "        vertical-align: middle;\n",
       "    }\n",
       "\n",
       "    .dataframe tbody tr th {\n",
       "        vertical-align: top;\n",
       "    }\n",
       "\n",
       "    .dataframe thead th {\n",
       "        text-align: right;\n",
       "    }\n",
       "</style>\n",
       "<table border=\"1\" class=\"dataframe\">\n",
       "  <thead>\n",
       "    <tr style=\"text-align: right;\">\n",
       "      <th></th>\n",
       "      <th>c0</th>\n",
       "      <th>c1</th>\n",
       "      <th>c2</th>\n",
       "      <th>c3</th>\n",
       "      <th>c4</th>\n",
       "      <th>c5</th>\n",
       "      <th>c6</th>\n",
       "      <th>c7</th>\n",
       "      <th>c8</th>\n",
       "      <th>c9</th>\n",
       "      <th>...</th>\n",
       "      <th>c240</th>\n",
       "      <th>c241</th>\n",
       "      <th>c242</th>\n",
       "      <th>c243</th>\n",
       "      <th>c244</th>\n",
       "      <th>c245</th>\n",
       "      <th>c246</th>\n",
       "      <th>c247</th>\n",
       "      <th>c248</th>\n",
       "      <th>c249</th>\n",
       "    </tr>\n",
       "  </thead>\n",
       "  <tbody>\n",
       "    <tr>\n",
       "      <td>0</td>\n",
       "      <td>964</td>\n",
       "      <td>963</td>\n",
       "      <td>962</td>\n",
       "      <td>960</td>\n",
       "      <td>958</td>\n",
       "      <td>959</td>\n",
       "      <td>961</td>\n",
       "      <td>962</td>\n",
       "      <td>963</td>\n",
       "      <td>963</td>\n",
       "      <td>...</td>\n",
       "      <td>963</td>\n",
       "      <td>961.0</td>\n",
       "      <td>963</td>\n",
       "      <td>961.0</td>\n",
       "      <td>961.0</td>\n",
       "      <td>962.0</td>\n",
       "      <td>965.0</td>\n",
       "      <td>966.0</td>\n",
       "      <td>963.0</td>\n",
       "      <td>962.0</td>\n",
       "    </tr>\n",
       "    <tr>\n",
       "      <td>1</td>\n",
       "      <td>955</td>\n",
       "      <td>955</td>\n",
       "      <td>958</td>\n",
       "      <td>958</td>\n",
       "      <td>957</td>\n",
       "      <td>955</td>\n",
       "      <td>954</td>\n",
       "      <td>954</td>\n",
       "      <td>956</td>\n",
       "      <td>958</td>\n",
       "      <td>...</td>\n",
       "      <td>958</td>\n",
       "      <td>960.0</td>\n",
       "      <td>960</td>\n",
       "      <td>960.0</td>\n",
       "      <td>959.0</td>\n",
       "      <td>954.0</td>\n",
       "      <td>954.0</td>\n",
       "      <td>956.0</td>\n",
       "      <td>957.0</td>\n",
       "      <td>958.0</td>\n",
       "    </tr>\n",
       "    <tr>\n",
       "      <td>2</td>\n",
       "      <td>955</td>\n",
       "      <td>955</td>\n",
       "      <td>956</td>\n",
       "      <td>953</td>\n",
       "      <td>951</td>\n",
       "      <td>952</td>\n",
       "      <td>953</td>\n",
       "      <td>953</td>\n",
       "      <td>953</td>\n",
       "      <td>949</td>\n",
       "      <td>...</td>\n",
       "      <td>964</td>\n",
       "      <td>963.0</td>\n",
       "      <td>961</td>\n",
       "      <td>962.0</td>\n",
       "      <td>961.0</td>\n",
       "      <td>965.0</td>\n",
       "      <td>964.0</td>\n",
       "      <td>962.0</td>\n",
       "      <td>958.0</td>\n",
       "      <td>956.0</td>\n",
       "    </tr>\n",
       "    <tr>\n",
       "      <td>3</td>\n",
       "      <td>954</td>\n",
       "      <td>954</td>\n",
       "      <td>956</td>\n",
       "      <td>956</td>\n",
       "      <td>955</td>\n",
       "      <td>955</td>\n",
       "      <td>948</td>\n",
       "      <td>952</td>\n",
       "      <td>952</td>\n",
       "      <td>955</td>\n",
       "      <td>...</td>\n",
       "      <td>959</td>\n",
       "      <td>963.0</td>\n",
       "      <td>964</td>\n",
       "      <td>964.0</td>\n",
       "      <td>961.0</td>\n",
       "      <td>959.0</td>\n",
       "      <td>957.0</td>\n",
       "      <td>959.0</td>\n",
       "      <td>961.0</td>\n",
       "      <td>960.0</td>\n",
       "    </tr>\n",
       "    <tr>\n",
       "      <td>4</td>\n",
       "      <td>961</td>\n",
       "      <td>961</td>\n",
       "      <td>958</td>\n",
       "      <td>958</td>\n",
       "      <td>957</td>\n",
       "      <td>957</td>\n",
       "      <td>958</td>\n",
       "      <td>958</td>\n",
       "      <td>958</td>\n",
       "      <td>956</td>\n",
       "      <td>...</td>\n",
       "      <td>969</td>\n",
       "      <td>969.0</td>\n",
       "      <td>966</td>\n",
       "      <td>965.0</td>\n",
       "      <td>963.0</td>\n",
       "      <td>965.0</td>\n",
       "      <td>965.0</td>\n",
       "      <td>967.0</td>\n",
       "      <td>966.0</td>\n",
       "      <td>964.0</td>\n",
       "    </tr>\n",
       "  </tbody>\n",
       "</table>\n",
       "<p>5 rows × 250 columns</p>\n",
       "</div>"
      ],
      "text/plain": [
       "    c0   c1   c2   c3   c4   c5   c6   c7   c8   c9  ...  c240   c241  c242  \\\n",
       "0  964  963  962  960  958  959  961  962  963  963  ...   963  961.0   963   \n",
       "1  955  955  958  958  957  955  954  954  956  958  ...   958  960.0   960   \n",
       "2  955  955  956  953  951  952  953  953  953  949  ...   964  963.0   961   \n",
       "3  954  954  956  956  955  955  948  952  952  955  ...   959  963.0   964   \n",
       "4  961  961  958  958  957  957  958  958  958  956  ...   969  969.0   966   \n",
       "\n",
       "    c243   c244   c245   c246   c247   c248   c249  \n",
       "0  961.0  961.0  962.0  965.0  966.0  963.0  962.0  \n",
       "1  960.0  959.0  954.0  954.0  956.0  957.0  958.0  \n",
       "2  962.0  961.0  965.0  964.0  962.0  958.0  956.0  \n",
       "3  964.0  961.0  959.0  957.0  959.0  961.0  960.0  \n",
       "4  965.0  963.0  965.0  965.0  967.0  966.0  964.0  \n",
       "\n",
       "[5 rows x 250 columns]"
      ]
     },
     "execution_count": 11,
     "metadata": {},
     "output_type": "execute_result"
    }
   ],
   "source": [
    "X_ovr = df_electCard.drop(\"Type\", axis=1)\n",
    "y_ovr = df_electCard.Type\n",
    "X_ovr.head()"
   ]
  },
  {
   "cell_type": "code",
   "execution_count": 14,
   "metadata": {},
   "outputs": [],
   "source": [
    "X_train_ovr, X_test_ovr, y_train_ovr, y_test_ovr = train_test_split(X_ovr, y_ovr, test_size=0.30, random_state=42)\n",
    "filename = 'logRegPoint4.sav'"
   ]
  },
  {
   "cell_type": "code",
   "execution_count": 31,
   "metadata": {},
   "outputs": [
    {
     "name": "stdout",
     "output_type": "stream",
     "text": [
      "CPU times: user 38min 3s, sys: 12.1 s, total: 38min 15s\n",
      "Wall time: 9min 33s\n"
     ]
    }
   ],
   "source": [
    "%%time\n",
    "lgr = LogisticRegression(random_state=0, solver='lbfgs', multi_class='ovr', max_iter=20000).fit(X_train_ovr, y_train_ovr)"
   ]
  },
  {
   "cell_type": "code",
   "execution_count": 9,
   "metadata": {},
   "outputs": [],
   "source": [
    "# Saving my model's weitghs, because take a lot of time train the model\n",
    "joblib.dump(lgr, filename);"
   ]
  },
  {
   "cell_type": "code",
   "execution_count": 15,
   "metadata": {},
   "outputs": [],
   "source": [
    "# load the model from disk\n",
    "lgr = joblib.load(filename)"
   ]
  },
  {
   "cell_type": "code",
   "execution_count": 16,
   "metadata": {},
   "outputs": [],
   "source": [
    "predictions_lgr = lgr.predict(X_test_ovr)"
   ]
  },
  {
   "cell_type": "code",
   "execution_count": 129,
   "metadata": {},
   "outputs": [
    {
     "name": "stdout",
     "output_type": "stream",
     "text": [
      "(Exactitud) Accuracy: 0.9135646687697161\n",
      "(Sensibilidad) Recall: [0.63552576 0.97379498 0.87851929 0.63192488]\n",
      " Precision: [0.81253348 0.92781371 0.95036661 0.79176471]\n",
      " F1_score: [0.7132111  0.95024843 0.9130317  0.70287206]\n"
     ]
    }
   ],
   "source": [
    "accuracy_ovr = accuracy_score(y_test_ovr, predictions_lgr)\n",
    "recall_ovr = recall_score(y_test_ovr, predictions_lgr, average=None)\n",
    "f1_ovr = f1_score(y_test_ovr, predictions_lgr, average=None)\n",
    "precision_ovr = precision_score(y_test_ovr, predictions_lgr, average=None)\n",
    "\n",
    "print(f\"(Exactitud) Accuracy: {accuracy_ovr}\") # (1517 + 21516 + 1685 + 1346) / total de datos\n",
    "print(f\"(Sensibilidad) Recall: {recall_ovr}\")\n",
    "print(f\" Precision: {precision_ovr}\")\n",
    "print(f\" F1_score: {f1_ovr}\")   "
   ]
  },
  {
   "cell_type": "code",
   "execution_count": 118,
   "metadata": {},
   "outputs": [
    {
     "data": {
      "image/png": "[encoded data removed]",
      "text/plain": [
       "<Figure size 432x288 with 2 Axes>"
      ]
     },
     "metadata": {
      "needs_background": "light"
     },
     "output_type": "display_data"
    }
   ],
   "source": [
    "plot_confusion_matrix(y_test_ovr, predictions_lgr, normalize=False);"
   ]
  },
  {
   "cell_type": "markdown",
   "metadata": {},
   "source": [
    "Para realizar la matriz de confusión multiclase, se sigue el mismo principio que de forma binaria. Sin embargo. En el caso de sensibilidad, especificada y precisión ya no sólo se obtiene un único resultado, sino que se calcula clase por clase."
   ]
  },
  {
   "cell_type": "markdown",
   "metadata": {},
   "source": [
    "- https://stackoverflow.com/questions/45890328/sklearn-metrics-for-multiclass-classification\n",
    "- https://www.youtube.com/watch?v=HBi-P5j0Kec"
   ]
  },
  {
   "cell_type": "markdown",
   "metadata": {},
   "source": [
    "Tenga en cuenta que la matriz de confusión sklearn trabaja un poco diferente a como encontramos los ejemplos en internet. Esto se debe a que normalmente si inverten los falsos positivos y falsos negativos. Para mayor información:\n",
    "- https://towardsdatascience.com/understanding-data-science-classification-metrics-in-scikit-learn-in-python-3bc336865019."
   ]
  },
  {
   "cell_type": "markdown",
   "metadata": {},
   "source": [
    "# 5. Curva ROC from scratch"
   ]
  },
  {
   "cell_type": "code",
   "execution_count": 274,
   "metadata": {},
   "outputs": [
    {
     "name": "stdout",
     "output_type": "stream",
     "text": [
      "[0.01 0.04 0.09 0.15 0.16 0.19 0.23 0.23 0.23 0.24 0.32 0.32 0.32 0.33\n",
      " 0.41 0.43 0.45 0.49 0.5  0.54 0.54 0.56 0.64 0.65 0.65 0.67 0.67 0.71\n",
      " 0.73 0.74 0.76 0.78 0.78 0.84 0.89 0.97 0.98 0.99]\n",
      "[0, 0, 1, 0, 1, 0, 0, 0, 0, 1, 0, 0, 0, 0, 0, 1, 0, 0, 1, 0, 1, 1, 1, 1, 0, 0, 1, 1, 1, 1, 0, 1, 0, 1, 1, 1, 1, 1]\n"
     ]
    }
   ],
   "source": [
    "y_true = np.array([1, 1, 1, 1, 1, 1, 1, 1, 1, 1, 1, 1, 1, 1, 1, 1, 1, 1, 1, 0, 0, 0, 0, 0, 0, 0, 0, 0, 0, 0, 0, 0, 0, 0, 0, 0, 0, 0])\n",
    "prediccion =  np.array([0.97, 0.71, 0.16, 0.54, 0.67, 0.73, 0.56, 0.24, 0.98, 0.09, 0.89, 0.84, 0.74, 0.43, 0.78, 0.99, 0.65, 0.64, 0.50,\n",
    "                   0.33, 0.23, 0.45, 0.54, 0.78, 0.04, 0.01, 0.65, 0.23, 0.41, 0.32, 0.67, 0.32, 0.76, 0.23, 0.32, 0.49, 0.15, 0.19])\n",
    "\n",
    "# ordenamos\n",
    "ind_sort = prediccion.argsort()\n",
    "prediccion.sort()\n",
    "y_true_copia  = []\n",
    "for i in ind_sort:\n",
    "    y_true_copia.append(y_true[i])\n",
    "y_true = y_true_copia\n",
    "\n",
    "print(prediccion)\n",
    "print(y_true)"
   ]
  },
  {
   "cell_type": "code",
   "execution_count": 297,
   "metadata": {},
   "outputs": [
    {
     "name": "stdout",
     "output_type": "stream",
     "text": [
      "0.0 0.01\n",
      "0.0 0.02\n",
      "0.0 0.03\n",
      "0.0 0.04\n",
      "0.0 0.05\n",
      "0.0 0.060000000000000005\n",
      "0.0 0.06999999999999999\n",
      "0.0 0.08\n",
      "0.0 0.09\n",
      "0.09090909090909091 0.09999999999999999\n",
      "0.09090909090909091 0.11\n",
      "0.09090909090909091 0.12\n",
      "0.09090909090909091 0.13\n",
      "0.09090909090909091 0.14\n",
      "0.08695652173913043 0.15000000000000002\n",
      "0.08695652173913043 0.16\n",
      "0.16666666666666666 0.17\n",
      "0.16666666666666666 0.18000000000000002\n",
      "0.16666666666666666 0.19\n",
      "0.16 0.2\n",
      "0.16 0.21000000000000002\n",
      "0.16 0.22\n",
      "0.16 0.23\n",
      "0.20689655172413793 0.24000000000000002\n",
      "0.20689655172413793 0.25\n",
      "0.20689655172413793 0.26\n",
      "0.20689655172413793 0.27\n",
      "0.20689655172413793 0.28\n",
      "0.20689655172413793 0.29000000000000004\n",
      "0.20689655172413793 0.3\n",
      "0.20689655172413793 0.31\n",
      "0.20689655172413793 0.32\n",
      "0.18749999999999997 0.33\n",
      "0.18181818181818182 0.34\n",
      "0.18181818181818182 0.35000000000000003\n",
      "0.18181818181818182 0.36000000000000004\n",
      "0.18181818181818182 0.37\n",
      "0.18181818181818182 0.38\n",
      "0.18181818181818182 0.39\n",
      "0.18181818181818182 0.4\n",
      "0.17647058823529413 0.41000000000000003\n",
      "0.17647058823529413 0.42000000000000004\n",
      "0.17647058823529413 0.43\n",
      "0.22857142857142856 0.44\n",
      "0.22857142857142856 0.45\n",
      "0.2222222222222222 0.46\n",
      "0.2222222222222222 0.47000000000000003\n",
      "0.2222222222222222 0.48000000000000004\n",
      "0.2222222222222222 0.49\n",
      "0.21621621621621623 0.5\n",
      "0.2631578947368421 0.51\n",
      "0.2631578947368421 0.52\n",
      "0.2631578947368421 0.53\n",
      "0.2631578947368421 0.54\n",
      "0.3 0.55\n",
      "0.3 0.56\n",
      "0.3414634146341463 0.5700000000000001\n",
      "0.3414634146341463 0.5800000000000001\n",
      "0.3414634146341463 0.59\n",
      "0.3414634146341463 0.6\n",
      "0.3414634146341463 0.61\n",
      "0.3414634146341463 0.62\n",
      "0.3414634146341463 0.63\n",
      "0.3414634146341463 0.64\n",
      "0.380952380952381 0.65\n",
      "0.40909090909090906 0.66\n",
      "0.40909090909090906 0.67\n",
      "0.43478260869565216 0.68\n",
      "0.43478260869565216 0.6900000000000001\n",
      "0.43478260869565216 0.7000000000000001\n",
      "0.46808510638297873 0.7100000000000001\n",
      "0.46808510638297873 0.72\n",
      "0.46808510638297873 0.73\n",
      "0.5 0.74\n",
      "0.5306122448979592 0.75\n",
      "0.5306122448979592 0.76\n",
      "0.5200000000000001 0.77\n",
      "0.5200000000000001 0.78\n",
      "0.5384615384615385 0.79\n",
      "0.5384615384615385 0.8\n",
      "0.5384615384615385 0.81\n",
      "0.5384615384615385 0.8200000000000001\n",
      "0.5384615384615385 0.8300000000000001\n",
      "0.5660377358490566 0.8400000000000001\n",
      "0.5660377358490566 0.85\n",
      "0.5660377358490566 0.86\n",
      "0.5660377358490566 0.87\n",
      "0.5660377358490566 0.88\n",
      "0.5660377358490566 0.89\n",
      "0.5925925925925926 0.9\n",
      "0.5925925925925926 0.91\n",
      "0.5925925925925926 0.92\n",
      "0.5925925925925926 0.93\n",
      "0.5925925925925926 0.9400000000000001\n",
      "0.5925925925925926 0.9500000000000001\n",
      "0.5925925925925926 0.9600000000000001\n",
      "0.5925925925925926 0.97\n",
      "0.6181818181818182 0.98\n",
      "0.6428571428571428 0.99\n",
      "0.6666666666666666 1.0\n"
     ]
    }
   ],
   "source": [
    "recall_s = []\n",
    "precision_s = []\n",
    "\n",
    "for limite in np.arange(0.01, 1+0.01, 0.01):\n",
    "    \n",
    "    y_pred = []\n",
    "    \n",
    "    for pr_i in prediccion.argsort():\n",
    "        if prediccion[pr_i] < limite:\n",
    "            y_pred.append(1)\n",
    "        else:\n",
    "            y_pred.append(0)\n",
    "            \n",
    "    print(f1_score(y_true, y_pred), limite)\n",
    "    recall_s.append(recall_score(y_true, y_pred))\n",
    "    precision_s.append(precision_score(y_true, y_pred))"
   ]
  },
  {
   "cell_type": "code",
   "execution_count": 281,
   "metadata": {},
   "outputs": [
    {
     "data": {
      "text/plain": [
       "[<matplotlib.lines.Line2D at 0x7f52d4e96908>]"
      ]
     },
     "execution_count": 281,
     "metadata": {},
     "output_type": "execute_result"
    },
    {
     "data": {
      "image/png": "[encoded data removed]",
      "text/plain": [
       "<Figure size 432x288 with 1 Axes>"
      ]
     },
     "metadata": {
      "needs_background": "light"
     },
     "output_type": "display_data"
    }
   ],
   "source": [
    "plt.plot(recall_s, precision_s)"
   ]
  },
  {
   "cell_type": "code",
   "execution_count": 277,
   "metadata": {},
   "outputs": [
    {
     "data": {
      "text/plain": [
       "0.7728531855955678"
      ]
     },
     "execution_count": 277,
     "metadata": {},
     "output_type": "execute_result"
    }
   ],
   "source": [
    "roc_auc_score(y_true, prediccion)"
   ]
  },
  {
   "cell_type": "code",
   "execution_count": 301,
   "metadata": {},
   "outputs": [
    {
     "data": {
      "image/png": "[encoded data removed]",
      "text/plain": [
       "<Figure size 432x288 with 2 Axes>"
      ]
     },
     "metadata": {
      "needs_background": "light"
     },
     "output_type": "display_data"
    }
   ],
   "source": [
    "y_pred = []\n",
    "    \n",
    "for pr_i in prediccion.argsort():\n",
    "    if prediccion[pr_i] < 0.32:\n",
    "        y_pred.append(1)\n",
    "    else:\n",
    "        y_pred.append(0)\n",
    "\n",
    "recall_s.append(recall_score(y_true, y_pred))\n",
    "precision_s.append(precision_score(y_true, y_pred))\n",
    "    \n",
    "plot_confusion_matrix(y_true, y_pred, normalize=False);"
   ]
  },
  {
   "cell_type": "code",
   "execution_count": 292,
   "metadata": {},
   "outputs": [
    {
     "name": "stdout",
     "output_type": "stream",
     "text": [
      "(Exactitud) Accuracy: 0.4473684210526316\n",
      "(Sensibilidad) Recall: 0.10526315789473684\n",
      "(Especificidad) Specificity 0.9930127414714345\n",
      " Precision: 0.3333333333333333\n",
      " F1_score: 0.16\n"
     ]
    }
   ],
   "source": [
    "tn, fp, fn, tp = confusion_matrix(predictions, y_test).ravel()\n",
    "\n",
    "accuracy_ = accuracy_score(y_true, y_pred)\n",
    "recall_ = recall_score(y_true, y_pred)\n",
    "f1_ = f1_score(y_true, y_pred)\n",
    "precision_ = precision_score(y_true, y_pred)\n",
    "\n",
    "print(f\"(Exactitud) Accuracy: {accuracy_}\")\n",
    "print(f\"(Sensibilidad) Recall: {recall_}\")\n",
    "print(f\"(Especificidad) Specificity {tn / (tn + fp)}\")\n",
    "print(f\" Precision: {precision_}\")\n",
    "print(f\" F1_score: {f1_}\")"
   ]
  }
 ],
 "metadata": {
  "kernelspec": {
   "display_name": "Python 3",
   "language": "python",
   "name": "python3"
  },
  "language_info": {
   "codemirror_mode": {
    "name": "ipython",
    "version": 3
   },
   "file_extension": ".py",
   "mimetype": "text/x-python",
   "name": "python",
   "nbconvert_exporter": "python",
   "pygments_lexer": "ipython3",
   "version": "3.7.3"
  }
 },
 "nbformat": 4,
 "nbformat_minor": 4
}
